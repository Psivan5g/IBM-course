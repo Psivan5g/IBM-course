{
 "cells": [
  {
   "cell_type": "markdown",
   "id": "eb07c02b-9d49-45e3-8f2f-ebc6b475efb5",
   "metadata": {},
   "source": [
    "# Data Science Tools and Ecosystem"
   ]
  },
  {
   "cell_type": "markdown",
   "id": "6aed8acb-af78-4774-aacf-a739900f0f3d",
   "metadata": {
    "tags": []
   },
   "source": [
    "## Author\n",
    "Ivan"
   ]
  },
  {
   "cell_type": "markdown",
   "id": "b05add11-b774-4042-997c-38f5e1874af9",
   "metadata": {},
   "source": [
    "In this notebook, Data Science Tools and Ecosystem are summarized."
   ]
  },
  {
   "cell_type": "markdown",
   "id": "2317279e-6d9c-411b-809f-b51e12499549",
   "metadata": {
    "tags": []
   },
   "source": [
    "**Objectives:**\n",
    "* List popular languages for Data Science\n",
    "* List popular libraries used by Data Science\n",
    "* Data Science Tools\n",
    "* Arithmetic code Example"
   ]
  },
  {
   "cell_type": "markdown",
   "id": "67133495-be29-4e3b-b022-81bd87b77928",
   "metadata": {},
   "source": [
    "Some of the popular languages that Data Scientists use are:\n",
    "\n",
    "1. Python\n",
    "2. R\n",
    "3. SQL\n"
   ]
  },
  {
   "cell_type": "markdown",
   "id": "9ca44a28-a865-4afe-8713-ede41d0b0d65",
   "metadata": {},
   "source": [
    "Some of the commonly used libraries used by Data Scientists include:\n",
    "\n",
    "1. Pandas\n",
    "2. Matplotlib\n",
    "3. ggplot2\n"
   ]
  },
  {
   "cell_type": "markdown",
   "id": "b5f09158-b814-4438-b39e-7749f7bb6afb",
   "metadata": {},
   "source": [
    "| Data Science Tools |\n",
    "| ------------------ |\n",
    "| Anaconda |\n",
    "| RStudio |\n",
    "| Git |"
   ]
  },
  {
   "cell_type": "markdown",
   "id": "978fd7b2-b9a8-49ca-905f-302f14fe8042",
   "metadata": {},
   "source": [
    "### Below are a few examples of evaluating arithmetic expressions in Python"
   ]
  },
  {
   "cell_type": "code",
   "execution_count": 1,
   "id": "5dafdff1-f02a-4840-ac73-736cc3bf59c5",
   "metadata": {
    "tags": []
   },
   "outputs": [
    {
     "data": {
      "text/plain": [
       "3.3333333333333335"
      ]
     },
     "execution_count": 1,
     "metadata": {},
     "output_type": "execute_result"
    }
   ],
   "source": [
    "# This will convert 200 minutes to hours by dividing by 60\n",
    "200/60"
   ]
  },
  {
   "cell_type": "code",
   "execution_count": null,
   "id": "e37f05ae-c6f6-4dac-889f-9775c05c7626",
   "metadata": {},
   "outputs": [],
   "source": []
  }
 ],
 "metadata": {
  "kernelspec": {
   "display_name": "Python",
   "language": "python",
   "name": "conda-env-python-py"
  },
  "language_info": {
   "codemirror_mode": {
    "name": "ipython",
    "version": 3
   },
   "file_extension": ".py",
   "mimetype": "text/x-python",
   "name": "python",
   "nbconvert_exporter": "python",
   "pygments_lexer": "ipython3",
   "version": "3.7.12"
  }
 },
 "nbformat": 4,
 "nbformat_minor": 5
}
